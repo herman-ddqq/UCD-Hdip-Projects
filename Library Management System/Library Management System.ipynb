{
 "cells": [
  {
   "cell_type": "markdown",
   "metadata": {},
   "source": [
    "# Exercise One - The Book Class (2%)\n",
    "## TASK1 - class Book\n",
    "#here defining class Book with instance variables title, author, year, genres\n",
    "#using constructor, __init__ method for that;\n",
    "#then initialising __str__ method responsible for printing out stuff; I create one long string with string and variables included."
   ]
  },
  {
   "cell_type": "code",
   "execution_count": 1,
   "metadata": {},
   "outputs": [],
   "source": [
    "class Book:\n",
    "    def __init__(self, title: str, author: str, year: int, genres: list):\n",
    "        self.title=title\n",
    "        self.author=author\n",
    "        self.year=year\n",
    "        self.genres=genres\n",
    "\n",
    "    def __str__ (self): #user friendly format\n",
    "        s = (f\"Title: {self.title}, Author: {self.author}, Year: {self.year}, Genres: {self.genres}\")\n",
    "        return s\n",
    "    \n",
    "    #task 2 of ex1\n",
    "    def __string_for_txt__(self):\n",
    "        string_genres = ', '.join(self.genres)\n",
    "        r = f\"{self.title}, {self.author}, {self.year}, [{string_genres}]\"\n",
    "        return r\n",
    "\n",
    "    #I didn't need it for the whole task except EXERCISE 2 - TASK3 and EXERCISE 3 - TASK 4 when printed list in the end\n",
    "    def __repr__(self):\n",
    "        return (f\"Title: {self.title}, Author: {self.author}, Year: {self.year}, Genres: {self.genres}\")"
   ]
  },
  {
   "cell_type": "markdown",
   "metadata": {},
   "source": [
    "#here I will create 3 objects of Book class and try to print them accordingly\n",
    "\n",
    "#number -380 is just a way do display year 380 BD (before our era)\n",
    "\n",
    "#It worked.The output was:\n",
    "\n",
    "#Title: Meditations, Author: Marcus Aurelius, Year: 161, Genres: ['Philosophy', 'Stoicism']\n",
    "\n",
    "#Title: Allegory of the cave, Author: Plato, Year: -380, Genres: ['Philosophy', 'Political Theory', 'Epistemology']\n",
    "\n",
    "#Title: Beyond Good and Evil, Author: Friedrich Nietzsche, Year: 1886,Genres: ['Philosophy', 'Ethics']"
   ]
  },
  {
   "cell_type": "markdown",
   "metadata": {},
   "source": [
    "About creating method to convert:\n",
    "#I first wrote it like this: \n",
    "r = self.title, self.author, self.year, self.genres\n",
    "#but got mistake - returned a tuple; so had to rewrite it like this (make sure it is a string):\n",
    "r = f\"{self.title}, {self.author}, {self.year}, \" + {self.genres}\n",
    "#it worked but still had ' ' around self.genre elements.\n",
    "#To remove it used join method:\n",
    "#string_genres = ', '.join(self.genres)\n",
    "created new variable, then join method takes all elements from list self.genres and puts them in a string separated by space and comma; single quoation marks disappear bcz they exist only for list representation; when it's string there is no single quotation marks. stored in variable string_genres\n",
    "\n"
   ]
  },
  {
   "cell_type": "code",
   "execution_count": 2,
   "metadata": {},
   "outputs": [
    {
     "name": "stdout",
     "output_type": "stream",
     "text": [
      "Title: Meditations, Author: Marcus Aurelius, Year: 161, Genres: ['Philosophy', 'Stoicism']\n",
      "Title: Allegory of the cave, Author: Plato, Year: -380, Genres: ['Philosophy', 'Political Theory', 'Epistemology']\n",
      "Title: Beyond Good and Evil, Author: Friedrich Nietzsche, Year: 1886, Genres: ['Philosophy', 'Ethics']\n",
      "Meditations, Marcus Aurelius, 161, [Philosophy, Stoicism]\n"
     ]
    }
   ],
   "source": [
    "book1 = Book ('Meditations', 'Marcus Aurelius', 161, ['Philosophy', 'Stoicism'])\n",
    "book2 = Book ('Allegory of the cave', 'Plato', -380, ['Philosophy', 'Political Theory', 'Epistemology'])\n",
    "book3 = Book ('Beyond Good and Evil', 'Friedrich Nietzsche', 1886, ['Philosophy', 'Ethics'])\n",
    "print(book1)\n",
    "print(book2)\n",
    "print(book3)\n",
    "print(book1.__string_for_txt__()) #this trying to use method which I created to convert format to the one needed for txt."
   ]
  },
  {
   "cell_type": "markdown",
   "metadata": {},
   "source": [
    "## TASK2 - load_from_file_line(line)\n",
    "#I will first create list of objects and write them to file and then do method, I find this way easier"
   ]
  },
  {
   "cell_type": "code",
   "execution_count": 3,
   "metadata": {},
   "outputs": [],
   "source": [
    "#To create list of 5+books: I have 3 objects already, will first create 7 more objects(so will be 10):\n",
    "book4 = Book('Nicomachean Ethics', 'Aristotle', -350, ['Philosophy', 'Ethics'])\n",
    "book5 = Book('The Tao Te Ching', 'Laozi', -600, ['Philosophy', 'Spirituality'])\n",
    "book6 = Book('Critique of Pure Reason', 'Immanuel Kant', 1781, ['Philosophy', 'Epistemology', 'Metaphysics'])\n",
    "book7 = Book('The Myth of Sisyphus', 'Albert Camus', 1942, ['Philosophy', 'Existentialism'])\n",
    "book8 = Book('Discourse on Method', 'René Descartes', 1637, ['Philosophy', 'Epistemology'])\n",
    "book9 = Book('The Social Contract', 'Jean-Jacques Rousseau', 1762, ['Political Theory'])\n",
    "book10 = Book('Thus Spoke Zarathustra', 'Friedrich Nietzsche', 1883, ['Philosophy', 'Existentialism'])\n",
    "\n",
    "#create a list of the book objects\n",
    "book_list=[]\n",
    "book_list.extend ([book1, book2, book3, book4, book5, book6, book7, book8, book9, book10])\n",
    "#if i print it now makes no sense(i tried). only returns address of all this objects in memory\n",
    "\n",
    "#now need to write them into a file\n",
    "with open (\"philosophy_books.txt\", \"w\") as file:\n",
    "    for book in book_list:\n",
    "        file.write(book.__string_for_txt__() +\"\\n\")\n",
    "#Yes, it wrote data correctly this time."
   ]
  },
  {
   "cell_type": "markdown",
   "metadata": {},
   "source": [
    "Notes:\n",
    "\n",
    "with open (\"philosophy_books.txt\", \"w\") as file: \n",
    "#opens txt file in a writing mode; files doesn't exist yet, so will create it. in future just opens in w mode.(CAREFUL - OVERWRITES!)\n",
    "    for book in book_list: \n",
    "#this line iterates over each item (object) in book_list\n",
    "        file.write(str(book)+\"\\n\") \n",
    "#this line writes to txt file what i need (book objects), BUT it converst them to string first, because now it will write just an adress in memory.(as i tried when printed it)\n",
    "        \n",
    "#I tried writing them and it worked, but also included extra stuff like when printing \"Title:, Genre:\" etc. That's because it goes through the __str__ method. I needed to find a way to avoid that.\n",
    "\n",
    "#my solution was to define another method in class called   def __string_for_txt__(self) which would convert to the format needed. and then when writing apply this method first."
   ]
  },
  {
   "cell_type": "markdown",
   "metadata": {},
   "source": [
    "***Defining method load_from_file_line***"
   ]
  },
  {
   "cell_type": "code",
   "execution_count": 4,
   "metadata": {},
   "outputs": [],
   "source": [
    "def load_from_file_line(line):\n",
    "    #split line to parts (Name, Author, Year by comma; only 3 commas until Genre)\n",
    "    parts = line.split(', ', 3)\n",
    "    \n",
    "    title = parts[0] #first element in string is title\n",
    "    author = parts[1] #second element in string is author\n",
    "    year = parts[2] #third element in string is year\n",
    "    year = int(year) #it was integer so convert it back to INT\n",
    "\n",
    "    genres_part = parts[3].strip('[]') #remove brackets from genres part \n",
    "    genres = genres_part.split(', ') # split with commas to smaller parts\n",
    "\n",
    "    return Book(title, author, year, genres) #returns an object of class Book with attributes : title, author, year, genres"
   ]
  },
  {
   "cell_type": "markdown",
   "metadata": {},
   "source": [
    "#If I understood it correctly this method doesn't need to open and read the file like: with open(\"philosophy_books\", \"r\") as file and then go line by line. It's I give it a line and it works with it.Just a single line at a time"
   ]
  },
  {
   "cell_type": "code",
   "execution_count": 5,
   "metadata": {},
   "outputs": [
    {
     "name": "stdout",
     "output_type": "stream",
     "text": [
      "Title: Meditations, Author: Marcus Aurelius, Year: 161, Genres: ['Philosophy', 'Stoicism']\n"
     ]
    }
   ],
   "source": [
    "#here I will call the method to check if it works:\n",
    "line = \"Meditations, Marcus Aurelius, 161, [Philosophy, Stoicism]\"\n",
    "new_book = load_from_file_line(line)\n",
    "print(new_book)"
   ]
  },
  {
   "cell_type": "markdown",
   "metadata": {},
   "source": [
    "#Yes, it works. \n",
    "So, the way it works in my code: \n",
    "1) Method __string_for_txt__ to transform object data from user friendly format like \n",
    "\"Title: Meditations, Author: Marcus Aurelius, Year: 161, Genres: ['Philosophy', 'Stoicism']\" . \n",
    "\n",
    " to concise format like:\n",
    " Meditations, Marcus Aurelius, 161, [Philosophy, Stoicism]\n",
    "\n",
    " which is stored in txt file. \n",
    " OBJECT -> STRING in txt\n",
    "\n",
    " 2) after it is stored, using another method  - load_from_file_line(line) to unpack it by the line given by user and return as an object (so it can be printed again in a user-friendly format) \n",
    " STRING in txt -> OBJECT\n"
   ]
  },
  {
   "cell_type": "markdown",
   "metadata": {},
   "source": [
    "# Exercise Two - The Library Class (3%)\n",
    "## TASK1\n",
    "# class Library\n",
    "# add_book(book)\n",
    "# load_books_from_file(filename)\n",
    "# save_books_to_file(filename)"
   ]
  },
  {
   "cell_type": "code",
   "execution_count": 6,
   "metadata": {},
   "outputs": [],
   "source": [
    "#EXERCISE 2 - TASK1\n",
    "class Library:\n",
    "    def __init__(self):\n",
    "        self.BOOKS = [] #empty list which will store Book objects\n",
    "        #BOOKS is a new list so I called it different than the one I had before - book_list with 10 philosophy books\n",
    "\n",
    "    def add_book(self, book): #method to add Book objects to list\n",
    "        #make sure no duplicates\n",
    "        if not any(existing_book.title == book.title and existing_book.author == book.author for existing_book in self.BOOKS):\n",
    "            self.BOOKS.append(book)\n",
    "         #so if I call this method later e.g. like library.add_book(book1) - it would add object of class Book (in my case \"Meditations, Markus Aurelius...\") to an object library of class Library.\n",
    "\n",
    "    def load_books_from_file (self, filename):\n",
    "        with open (filename, \"r\") as file: #similar to Ex1, no need explain\n",
    "            for line in file:\n",
    "                book = load_from_file_line(line.strip()) \n",
    "                #book object before a was a line that was read.\n",
    "                \n",
    "                #method to convert lines(strings) in txt to object format defined before and is called load_from_file_line, so just using it here again.\n",
    "                # what it does: converts from technical format in txt  again to user-friendly fromat in list.\n",
    "\n",
    "                # strip - remove extra spaces and newline charaters; why still need to strip, even though method is defined above, is bcz to handle unexpected situations if there are still some spaces/newline characters\n",
    "                \n",
    "                self.add_book(book) #this calls add_book method defined above which adds book object to self.BOOKS list\n",
    "    \n",
    "    def save_books_to_file (self, filename):\n",
    "        #I actually did it in EX1 - task 2 so I guess can just use this code;\n",
    "        with open (filename, \"w\") as file:\n",
    "            for book in self.BOOKS: #list is called self.BOOKS\n",
    "                file.write(book.__string_for_txt__() + \"\\n\") #I use my method __string_for_txt__ that I defined in first code cell to convert OBJECT->string for txt.\n",
    "    \n",
    "    #EXERCISE 2 - TASK2\n",
    "    def remove_book_by_title(self, title):\n",
    "        for book in self.BOOKS:\n",
    "            if book.title == title: #check if title is True, if it is as asked\n",
    "                self.BOOKS.remove(book) #removes from list this book\n",
    "\n",
    "    def update_book(self, title, new_author=None, new_year=None, new_genres=None):\n",
    "    #stated None bcz it's better for default parameter. In case user provides nothing and it is not None by default will be mistake; \n",
    "    #also user will always need provide values for all parameters (new_author, new_year, new_genres), even if they only want to update some of them.\n",
    "        for book in self.BOOKS:\n",
    "            if book.title == title:\n",
    "                if new_author is not None:\n",
    "                    book.author = new_author\n",
    "                if new_year is not None:\n",
    "                    book.year = new_year\n",
    "                if new_genres is not None:\n",
    "                    book.genres = new_genres #IT IS A LIST\n",
    "\n",
    "    #EXERCISE 2 - TASK3\n",
    "    def find_books(self, title=None, author=None, year=None, genres=None): #by default no parameter provided\n",
    "        \n",
    "        match_the_query=[] #list to store all matched\n",
    "        \n",
    "        for book in self.BOOKS: #goes through main list in Library\n",
    "            matching = True #start assuming all true; if at least one parameter is not rue then False\n",
    "\n",
    "            if title is not None:\n",
    "                if book.title != title:\n",
    "                    matching = False\n",
    "            \n",
    "            if author is not None:\n",
    "                if book.author != author:\n",
    "                    matching = False\n",
    "            \n",
    "            if year is not None:\n",
    "                if book.year != year:\n",
    "                    matching = False\n",
    "            \n",
    "            if genres is not None:\n",
    "                #for each genre(item) in genres(argument of this method) list \n",
    "                matching_genre = False\n",
    "                for genre in genres:\n",
    "                    if genre in book.genres: #so if this item is in original list genres (original means object of class Book)\n",
    "                        matching_genre = True\n",
    "                        break #match is found so break loop\n",
    "                if not matching_genre: #match not found, treat same as parameters before - matching False.\n",
    "                    matching = False\n",
    "            \n",
    "            #it is treated differently than other paramentres, because it is a LIST! so to check it iterates over a list (for genre in genres)\n",
    "\n",
    "            #GENRE- ONLY 1 out of all need to match; not all\n",
    "\n",
    "            if matching == True: #if all parameters match add this book to empty list\n",
    "                match_the_query.append(book)\n",
    "\n",
    "        if match_the_query: #LIST IS NOT EMPTY - then print it (user-friendly format)\n",
    "            print(f\"Books that match the query:\")\n",
    "            for book in match_the_query:\n",
    "                print(repr(book)) #here also need REPR , othervise empty list is given in addition (LISTS need REPR)\n",
    "            print() #empty line for clarity\n",
    "\n",
    "        else:\n",
    "            print(\"No books match the query.\")\n",
    "            print() #empty line for clarity\n",
    "\n",
    "        # REMOVED - return match_the_query (prints extra empty list)\n",
    "    \n",
    "    #EXERCISE 3  - TASK 1\n",
    "    def get_book_counts_by_author(self):\n",
    "        counts_by_author_dictionary = {} # empty dictionary to store author names and count of books\n",
    "        for book in self.BOOKS: #go by each book (item in list self.BOOKS in Library)\n",
    "            # if the author(KEY) is already in the dictionary, count +1\n",
    "            if book.author in counts_by_author_dictionary: #book.author means attribute author of object book; \n",
    "                counts_by_author_dictionary[book.author] += 1\n",
    "            else:\n",
    "                # if the author is not in the dictionary, add it with count 1; assign 1 to key (Markus Aurelius for example)\n",
    "                counts_by_author_dictionary[book.author] = 1\n",
    "\n",
    "        return counts_by_author_dictionary\n",
    "    \n",
    "    #EXERCISE 3 - TASK 2 (Matplotlib in cell below)\n",
    "\n",
    "    #EXERCISE 3 - TASK 3\n",
    "    def find_most_published_author(self):\n",
    "        # MAKE a dictionary, put all authors as keys, number of books as values; Compare and Find the biggest value and which key (author matching it)\n",
    "\n",
    "\n",
    "        #similar way to EX3 TASK1 - dictionary; to keep track of how many books each author has\n",
    "        number_BooksAuthor = {}\n",
    "        \n",
    "        #basically same as in EX3 TASK1\n",
    "        for book in self.BOOKS: #going line by line; \n",
    "            if book.author in number_BooksAuthor: #book.author is KEY; if author in dictionary? :\n",
    "                number_BooksAuthor[book.author] += 1 #value +1\n",
    "            else:\n",
    "                number_BooksAuthor[book.author] = 1 #value 1\n",
    "\n",
    "        #author with the most books (get value numbers out of each key in dict and return maximum value; that is how many books most published author written)\n",
    "        most_published_author = max(number_BooksAuthor, key=number_BooksAuthor.get) \n",
    "        #take dictionary; \n",
    "        # use method MAX which returns maximum of values;\n",
    "        # to MAX I need to provide value, now it's just a dictionary\n",
    "        # \"key\" - tells MAX to compares VALUES instead of just keys\n",
    "        # .get is a dictionary method which helps to get VALUE assosiated with a KEY in DICTIONARY\n",
    "        # so gets numbers basically, compares them, returns maximum number\n",
    "\n",
    "        #THESE are his books\n",
    "        #all books written by author\n",
    "        Titles_of_BooksAuthor = []\n",
    "        for book in self.BOOKS:\n",
    "            if book.author == most_published_author:\n",
    "                Titles_of_BooksAuthor.append(book.title)  #in that case - add book title to the list\n",
    "\n",
    "        #printing part\n",
    "        print (\"********\")\n",
    "        print(f\"Most published author is {most_published_author}\")\n",
    "        print (\"********\")\n",
    "        print() #empty line for clarity\n",
    "        print (\"********\")\n",
    "        print(\"Titles of all books by that author:\")\n",
    "        print (\"********\")\n",
    "        print() #empty line for clarity\n",
    "        for title in Titles_of_BooksAuthor: #prints out of list\n",
    "            print (title)\n",
    "\n",
    "        return most_published_author, Titles_of_BooksAuthor\n",
    "    \n",
    "    #EXERCISE 3 - TASK 4 and 5\n",
    "\n",
    "    def suggest_similar_books(self, book_name):\n",
    "        #first find the searched book object, the one matching book_name (argument)\n",
    "\n",
    "        Book_obj_toSearch = None #need to set default value; othervise if library is empty or book not found can cause an ERROR\n",
    "        for book in self.BOOKS:  #go through all books\n",
    "            \n",
    "            if book.title == book_name:  #check if title matches\n",
    "                Book_obj_toSearch = book\n",
    "                break  #stop searching once found\n",
    "\n",
    "        if Book_obj_toSearch is None: #if no book matching ARGUMENT is found, show a message and stop\n",
    "            print(f\"Searched book '{book_name}' is not found\")\n",
    "            return #to avoid errors with None;\n",
    "\n",
    "        ###WAS BEFORE IN TASK 4\n",
    "        #to give suggestions on similar, need to find all possible matches\n",
    "        MatchingAuthors_list = []  #books by the same author\n",
    "        MatchingGenres_list = []  #books with at least one matching genre\n",
    "\n",
    "        #NOW IN TASK 5 changed this:\n",
    "        #list to store suggestions and number of matching genres\n",
    "        #SUGGESTIONS = []\n",
    "\n",
    "        #go through each book object to find matches\n",
    "        for book in self.BOOKS:\n",
    "            \n",
    "            if book.title == Book_obj_toSearch.title:\n",
    "                continue #skip the book itself; no need to suggest it.\n",
    "\n",
    "            \n",
    "            #TASK5\n",
    "            #find number of genres overlapping\n",
    "                #CountGenresMatching = len(set(book.genres) & set(Book_obj_toSearch.genres))\n",
    "                #if CountGenresMatching > 0: #include only books with at least one matching genre\n",
    "                    #SUGGESTIONS.append((book, CountGenresMatching))\n",
    "\n",
    "        #TASK5\n",
    "        #sort by number of matching genres and then alphabetically by title\n",
    "        #SUGGESTIONS_sorted = sorted(SUGGESTIONS, key=lambda i: (-i[1], i[0].title))\n",
    "\n",
    "        #TASK5\n",
    "        #remove duplicates\n",
    "        #unique_suggestions = []\n",
    "        #seen_titles = set()\n",
    "        #for suggestion, count in SUGGESTIONS_sorted:\n",
    "            #if suggestion.title not in seen_titles:\n",
    "                #unique_suggestions.append((suggestion, count))\n",
    "                #seen_titles.add(suggestion.title)\n",
    "\n",
    "            #WAS BEFORE IN TASK 4\n",
    "            #if author is matching, add book to list of matches (suggestions)\n",
    "            if book.author == Book_obj_toSearch.author:\n",
    "                MatchingAuthors_list.append(book)\n",
    "\n",
    "            if set(book.genres) & set(Book_obj_toSearch.genres):  #overlap of genre sets\n",
    "                MatchingGenres_list.append(book)\n",
    "            \n",
    "\n",
    "            #combine\n",
    "        suggested_books_list = MatchingAuthors_list[:]\n",
    "        for book in MatchingGenres_list:\n",
    "            if book not in suggested_books_list:  # Avoid duplicates.\n",
    "                suggested_books_list.append(book)\n",
    "\n",
    "            #genres overlap\n",
    "            #if genre is matching, add book to list of matches (suggestions)\n",
    "            #for genre in Book_obj_toSearch.genres:\n",
    "                #if genre in book.genres: #if the one SEARCHED GENRE is in ALL BOOKS LIST GENRE\n",
    "                    #MatchingGenres_list.append(book)\n",
    "                   # break  #ONLY ONE GENRE NEEDED! stop go through book object and go to next book object once found match\n",
    "\n",
    "        #combine matches found by AUTHOR and by GENRE\n",
    "        #suggested_books_list = MatchingAuthors_list # first added (assigned basically) all matches by AUTHORS\n",
    "        #for book in MatchingGenres_list:  #then check not suggested twice same (author and genre can be both suit for suggestion, but need only 1)\n",
    "            #if book not in suggested_books_list:  #if no duplicates\n",
    "                #suggested_books_list.append(book) #then add\n",
    "            \n",
    "\n",
    "        #printing part\n",
    "        if suggested_books_list:\n",
    "            print (\"********\") #I use * and empty lines for better view\n",
    "            print(f\"If you liked the book '{book_name}' you may also like:\")\n",
    "            print() #empty line\n",
    "            \n",
    "            for suggestion in suggested_books_list:\n",
    "                print(f\"Title: {suggestion.title}, Author: {suggestion.author}, Genres: {suggestion.genres}\")\n",
    "            print (\"********\")\n",
    "            \n",
    "            print() #empty line\n",
    "        \n",
    "        else:\n",
    "            print (\"********\")\n",
    "            print (f\"Unfortunately, no similar books to '{book_name}' \")\n",
    "            print (\"********\")\n"
   ]
  },
  {
   "cell_type": "code",
   "execution_count": 7,
   "metadata": {},
   "outputs": [
    {
     "name": "stdout",
     "output_type": "stream",
     "text": [
      "Title: Meditations, Author: Marcus Aurelius, Year: 161, Genres: ['Philosophy', 'Stoicism']\n",
      "Title: Allegory of the cave, Author: Plato, Year: -380, Genres: ['Philosophy', 'Political Theory', 'Epistemology']\n",
      "Title: Beyond Good and Evil, Author: Friedrich Nietzsche, Year: 1886, Genres: ['Philosophy', 'Ethics']\n",
      "Title: Nicomachean Ethics, Author: Aristotle, Year: -350, Genres: ['Philosophy', 'Ethics']\n",
      "Title: The Tao Te Ching, Author: Laozi, Year: -600, Genres: ['Philosophy', 'Spirituality']\n",
      "Title: Critique of Pure Reason, Author: Immanuel Kant, Year: 1781, Genres: ['Philosophy', 'Epistemology', 'Metaphysics']\n",
      "Title: The Myth of Sisyphus, Author: Albert Camus, Year: 1942, Genres: ['Philosophy', 'Existentialism']\n",
      "Title: Discourse on Method, Author: René Descartes, Year: 1637, Genres: ['Philosophy', 'Epistemology']\n",
      "Title: The Social Contract, Author: Jean-Jacques Rousseau, Year: 1762, Genres: ['Political Theory']\n",
      "Title: Thus Spoke Zarathustra, Author: Friedrich Nietzsche, Year: 1883, Genres: ['Philosophy', 'Existentialism']\n"
     ]
    }
   ],
   "source": [
    "#will check if it works here\n",
    "library1 = Library() #created object library of class Library; it is also an empty list - self.BOOKS\n",
    "library1.load_books_from_file(\"philosophy_books.txt\")\n",
    "#so basically load to list self.BOOKS; it also get converted to user-friendly format as defined in load_books_from_file - load_from_file_line \n",
    "\n",
    "for book in library1.BOOKS: #go line by line and print\n",
    "    print(book)\n",
    "#Yes it worked, printed all books in user friendly format like this:\n",
    "# Title: Meditations, Author: Marcus Aurelius, Year: 161, Genres: ['Philosophy', 'Stoicism']\n"
   ]
  },
  {
   "cell_type": "code",
   "execution_count": 8,
   "metadata": {},
   "outputs": [
    {
     "name": "stdout",
     "output_type": "stream",
     "text": [
      "Title: Being and Nothingness, Author: Jean-Paul Sartre, Year: 1943, Genres: ['Philosophy', 'Existentialism', 'Phenomenology']\n",
      "Title: The Structure of Scientific Revolutions, Author: Thomas S. Kuhn, Year: 1962, Genres: ['Philosophy', 'Science', 'Epistemology']\n"
     ]
    }
   ],
   "source": [
    "#testing add_book method separately\n",
    "library2 = Library() #I will created another \"imaginable Library\" object library2 which will have 2 other books 11, 12 of modern philosophy\n",
    "\n",
    "book11 = Book('Being and Nothingness', 'Jean-Paul Sartre', 1943, ['Philosophy', 'Existentialism', 'Phenomenology'])\n",
    "book12 = Book('The Structure of Scientific Revolutions', 'Thomas S. Kuhn', 1962, ['Philosophy', 'Science', 'Epistemology'])\n",
    "\n",
    "library2.add_book(book11)\n",
    "library2.add_book(book12)\n",
    "\n",
    "for book in library2.BOOKS:\n",
    "    print(book) #should print just 2 books\n",
    "#Yes, it worked"
   ]
  },
  {
   "cell_type": "code",
   "execution_count": 9,
   "metadata": {},
   "outputs": [],
   "source": [
    "#here will test save_books_to_file method separately\n",
    "\n",
    "#at first I tried to save it but didn't work, because save_books_to_file was missing self parameter; I added it. Then I was still getting same mistake \"save_books_to_file() takes 1 positional argument but 2 were given\"; It turned out bcz I was running 1 cell; Once I ran the whole code it understood save_books_to_file has 2 arguments and it worked.\n",
    "library2.save_books_to_file(\"modern_philosophy_library2.txt\")\n",
    "#Yes, it worked"
   ]
  },
  {
   "cell_type": "markdown",
   "metadata": {},
   "source": [
    "## TASK2 - remove_book_by_title(title)"
   ]
  },
  {
   "cell_type": "code",
   "execution_count": 10,
   "metadata": {},
   "outputs": [
    {
     "name": "stdout",
     "output_type": "stream",
     "text": [
      "********\n",
      "\n",
      "Title: Meditations, Author: Marcus Aurelius, Year: 161, Genres: ['Philosophy', 'Stoicism']\n",
      "Title: Allegory of the cave, Author: Plato, Year: -380, Genres: ['Philosophy', 'Political Theory', 'Epistemology']\n",
      "Title: Beyond Good and Evil, Author: Friedrich Nietzsche, Year: 1886, Genres: ['Philosophy', 'Ethics']\n",
      "Title: Nicomachean Ethics, Author: Aristotle, Year: -350, Genres: ['Philosophy', 'Ethics']\n",
      "Title: The Tao Te Ching, Author: Laozi, Year: -600, Genres: ['Philosophy', 'Spirituality']\n",
      "Title: Critique of Pure Reason, Author: Immanuel Kant, Year: 1781, Genres: ['Philosophy', 'Epistemology', 'Metaphysics']\n",
      "Title: The Myth of Sisyphus, Author: Albert Camus, Year: 1942, Genres: ['Philosophy', 'Existentialism']\n",
      "Title: Discourse on Method, Author: René Descartes, Year: 1637, Genres: ['Philosophy', 'Epistemology']\n",
      "Title: The Social Contract, Author: Jean-Jacques Rousseau, Year: 1762, Genres: ['Political Theory']\n",
      "Title: Thus Spoke Zarathustra, Author: Friedrich Nietzsche, Year: 1883, Genres: ['Philosophy', 'Existentialism']\n",
      "#########\n",
      "\n",
      "Title: Meditations, Author: Marcus Aurelius, Year: 161, Genres: ['Philosophy', 'Stoicism']\n",
      "Title: Allegory of the cave, Author: Plato, Year: -380, Genres: ['Philosophy', 'Political Theory', 'Epistemology']\n",
      "Title: Beyond Good and Evil, Author: Friedrich Nietzsche, Year: 1886, Genres: ['Philosophy', 'Ethics']\n",
      "Title: Nicomachean Ethics, Author: Aristotle, Year: -350, Genres: ['Philosophy', 'Ethics']\n",
      "Title: The Tao Te Ching, Author: Laozi, Year: -600, Genres: ['Philosophy', 'Spirituality']\n",
      "Title: Critique of Pure Reason, Author: Immanuel Kant, Year: 1781, Genres: ['Philosophy', 'Epistemology', 'Metaphysics']\n",
      "Title: Discourse on Method, Author: René Descartes, Year: 1637, Genres: ['Philosophy', 'Epistemology']\n",
      "Title: The Social Contract, Author: Jean-Jacques Rousseau, Year: 1762, Genres: ['Political Theory']\n",
      "Title: Thus Spoke Zarathustra, Author: Friedrich Nietzsche, Year: 1883, Genres: ['Philosophy', 'Existentialism']\n"
     ]
    }
   ],
   "source": [
    "#here will test if it works\n",
    "#test remove_book_by_title\n",
    "library3 = Library()\n",
    "library3.load_books_from_file(\"philosophy_books.txt\")\n",
    "print (\"********\") #I use * and empty lines for better view\n",
    "print()\n",
    "for book in library3.BOOKS:\n",
    "    print(book)\n",
    "\n",
    "library3.remove_book_by_title(\"The Myth of Sisyphus\") #it's book 7\n",
    "print (\"#########\")\n",
    "print()\n",
    "for book in library3.BOOKS:\n",
    "    print(book)\n",
    "\n",
    "#it didn't work at first because I wrote method remove_book_by_title in  another cell ,so defined method outside the class. I moved to to class Library.\n",
    "\n",
    "#Yes it worked now; removed book 7 - The Myth of Sisyphus by title"
   ]
  },
  {
   "cell_type": "code",
   "execution_count": 11,
   "metadata": {},
   "outputs": [
    {
     "name": "stdout",
     "output_type": "stream",
     "text": [
      "*******\n",
      "\n",
      "Title: Meditations, Author: Marcus Aurelius, Year: 161, Genres: ['Philosophy', 'Stoicism']\n",
      "Title: Allegory of the cave, Author: Plato, Year: -380, Genres: ['Philosophy', 'Political Theory', 'Epistemology']\n",
      "Title: Beyond Good and Evil, Author: NOBODY, Year: 999, Genres: ['Philosophy', 'Ethics']\n",
      "Title: Nicomachean Ethics, Author: Aristotle, Year: -350, Genres: ['Philosophy', 'Ethics']\n",
      "Title: The Tao Te Ching, Author: Laozi, Year: -600, Genres: ['Philosophy', 'Spirituality']\n",
      "Title: Critique of Pure Reason, Author: Immanuel Kant, Year: 1781, Genres: ['Philosophy', 'Epistemology', 'Metaphysics']\n",
      "Title: Discourse on Method, Author: René Descartes, Year: 1637, Genres: ['Philosophy', 'Epistemology']\n",
      "Title: The Social Contract, Author: Jean-Jacques Rousseau, Year: 1762, Genres: ['Political Theory']\n",
      "Title: Thus Spoke Zarathustra, Author: Friedrich Nietzsche, Year: 1883, Genres: ['Philosophy', 'Existentialism']\n"
     ]
    }
   ],
   "source": [
    "#here I will test update_book ; already loaded bcz i use object library3 from previous cell\n",
    "library3.update_book(\"Beyond Good and Evil\", new_author=\"NOBODY\", new_year=999)\n",
    "\n",
    "print(\"*******\") #I use * and empty lines for better view\n",
    "print()\n",
    "for book in library3.BOOKS:\n",
    "    print(book)\n",
    "\n",
    "#yes it worked, output Title: Beyond Good and Evil, Author: NOBODY, Year: 999, Genres: ['Philosophy', 'Ethics']\n"
   ]
  },
  {
   "cell_type": "markdown",
   "metadata": {},
   "source": [
    "## TASK 3 - find_books(title, author, year, genres)"
   ]
  },
  {
   "cell_type": "code",
   "execution_count": 12,
   "metadata": {},
   "outputs": [
    {
     "name": "stdout",
     "output_type": "stream",
     "text": [
      "Books that match the query:\n",
      "Title: Meditations, Author: Marcus Aurelius, Year: 161, Genres: ['Philosophy', 'Stoicism']\n",
      "\n",
      "Books that match the query:\n",
      "Title: Beyond Good and Evil, Author: Friedrich Nietzsche, Year: 1886, Genres: ['Philosophy', 'Ethics']\n",
      "\n",
      "Books that match the query:\n",
      "Title: Meditations, Author: Marcus Aurelius, Year: 161, Genres: ['Philosophy', 'Stoicism']\n",
      "Title: Allegory of the cave, Author: Plato, Year: -380, Genres: ['Philosophy', 'Political Theory', 'Epistemology']\n",
      "Title: Beyond Good and Evil, Author: Friedrich Nietzsche, Year: 1886, Genres: ['Philosophy', 'Ethics']\n",
      "\n",
      "Books that match the query:\n",
      "Title: Meditations, Author: Marcus Aurelius, Year: 161, Genres: ['Philosophy', 'Stoicism']\n",
      "Title: Allegory of the cave, Author: Plato, Year: -380, Genres: ['Philosophy', 'Political Theory', 'Epistemology']\n",
      "Title: Beyond Good and Evil, Author: Friedrich Nietzsche, Year: 1886, Genres: ['Philosophy', 'Ethics']\n",
      "\n",
      "No books match the query.\n",
      "\n"
     ]
    }
   ],
   "source": [
    "#test method find_books here:\n",
    "library4 = Library () #it's empty now\n",
    "\n",
    "library4.add_book(book1)\n",
    "library4.add_book(book2)\n",
    "library4.add_book(book3) #added 3 books\n",
    "\n",
    "library4.find_books(title=\"Meditations\")  # search for book with the title \"Meditations\"\n",
    "\n",
    "library4.find_books(year=1886)  # search for book with year 1886\n",
    "\n",
    "library4.find_books(genres=[\"Philosophy\"])  # search for book with genre \"Philosophy\"; inlcuded as element of list bcz genres is a list;\n",
    "\n",
    "library4.find_books()  # returns all 3 books bcz I give no search parameters\n",
    "\n",
    "library4.find_books(year=0)  # returns no books (No books match the query.), bcz no book has year 0\n",
    "\n",
    "#library4.find_books(title=)  but if write like this will give mistake; need to specify None then.\n"
   ]
  },
  {
   "cell_type": "markdown",
   "metadata": {},
   "source": [
    "# Exercise Three - Library Analytics and Book Suggestions (5%)\n",
    "#  TASK 1 - get_book_counts_by_author()"
   ]
  },
  {
   "cell_type": "code",
   "execution_count": 13,
   "metadata": {},
   "outputs": [
    {
     "name": "stdout",
     "output_type": "stream",
     "text": [
      "{'Marcus Aurelius': 1, 'Plato': 1, 'Friedrich Nietzsche': 1, 'Aristotle': 1, 'Laozi': 1}\n",
      "{'Marcus Aurelius': 1, 'Plato': 1, 'Friedrich Nietzsche': 2, 'Aristotle': 1, 'Laozi': 1, 'Immanuel Kant': 1, 'Albert Camus': 1, 'René Descartes': 1, 'Jean-Jacques Rousseau': 1}\n"
     ]
    }
   ],
   "source": [
    "#testing library.get_book_counts_by_author\n",
    "library5 = Library ()\n",
    "\n",
    "library5.add_book(book1)\n",
    "library5.add_book(book2)\n",
    "library5.add_book(book3)\n",
    "library5.add_book(book4)\n",
    "library5.add_book(book5)\n",
    "\n",
    "result = library5.get_book_counts_by_author()\n",
    "\n",
    "print(result)\n",
    "\n",
    "#Yes it worked. Counted how many books each author has (in this case library5 - 5 different authors and books.)\n",
    "\n",
    "# check with original bigger library 1\n",
    "result2 = library1.get_book_counts_by_author()\n",
    "print(result2)\n",
    "#have 'Friedrich Nietzsche': 2; works as expected"
   ]
  },
  {
   "cell_type": "markdown",
   "metadata": {},
   "source": [
    "## TASK 2 - Matplotlib"
   ]
  },
  {
   "cell_type": "code",
   "execution_count": 14,
   "metadata": {},
   "outputs": [
    {
     "data": {
      "image/png": "[encoded data removed]",
      "text/plain": [
       "<Figure size 640x480 with 1 Axes>"
      ]
     },
     "metadata": {},
     "output_type": "display_data"
    }
   ],
   "source": [
    "#I defined it ouside the Library class and it works.It uses Library objects defined in Library class above but doesn't need Library class directly\n",
    "\n",
    "#I will use here another txt that I creted with 50 books - \"50books.txt\"\n",
    "\n",
    "import matplotlib.pyplot as plt\n",
    "#matplotlib - module\n",
    "#pyplot - submodule\n",
    "#plt - alias (short name)\n",
    "\n",
    "\n",
    "BIGlibrary = Library ()\n",
    "BIGlibrary.load_books_from_file (\"50books.txt\") #it has 50 books\n",
    "\n",
    "author_counts = BIGlibrary.get_book_counts_by_author() #get dictionary\n",
    "\n",
    "# take authors (keys) and book counts (values) from the dictionary\n",
    "authors = list(author_counts.keys())\n",
    "book_number = list(author_counts.values())\n",
    "\n",
    "#bar chart\n",
    "plt.bar (authors, book_number)\n",
    "\n",
    "#naming axis X, Y and chart name\n",
    "plt.xlabel(\"Author\") #X\n",
    "plt.ylabel(\"Number of books\") #Y\n",
    "plt.title(\"Books per author\") #name of chart\n",
    "\n",
    "\n",
    "#didn't work at first  - ModuleNotFoundError: No module named 'matplotlib'\n",
    "#tried to activate environment - conda activate python_oop in BASH; still mistake\n",
    "#reinstalled matplotlib\n",
    "#activated environment \n",
    "#worked but presented names of authors ugly (overlapping each other)\n",
    "# will rotate the x-axis 90 degrees to avoid overlap\n",
    "plt.xticks(rotation=90)\n",
    "\n",
    "plt.show() #to show\n",
    "#Now worked fine"
   ]
  },
  {
   "cell_type": "markdown",
   "metadata": {},
   "source": [
    "## TASK3 - find_most_published_author()"
   ]
  },
  {
   "cell_type": "code",
   "execution_count": 15,
   "metadata": {},
   "outputs": [
    {
     "name": "stdout",
     "output_type": "stream",
     "text": [
      "********\n",
      "Most published author is Friedrich Nietzsche\n",
      "********\n",
      "\n",
      "********\n",
      "Titles of all books by that author:\n",
      "********\n",
      "\n",
      "Beyond Good and Evil\n",
      "Thus Spoke Zarathustra\n",
      "The Genealogy of Morals\n",
      "On the Genealogy of Morals\n"
     ]
    }
   ],
   "source": [
    "#testing find_most_published_author():\n",
    "BIGlibrary = Library ()\n",
    "BIGlibrary.load_books_from_file (\"50books.txt\")\n",
    "\n",
    "#if I print it like this: \"BIGlibrary.find_most_published_author()\" except expected output it also prints a tuple; I don't need that; it happens because method find_most_published_author not only prints but also returns a tuple containing most_published_author and Titles_of_BooksAuthor\n",
    "# to avoid that need to store them in variable\n",
    "\n",
    "most_published_author, titles = BIGlibrary.find_most_published_author ()\n",
    "#Yes, it works"
   ]
  },
  {
   "cell_type": "markdown",
   "metadata": {},
   "source": [
    "## Task 4 - suggest_similar_books(book_name)"
   ]
  },
  {
   "cell_type": "code",
   "execution_count": 16,
   "metadata": {},
   "outputs": [
    {
     "name": "stdout",
     "output_type": "stream",
     "text": [
      "********\n",
      "If you liked the book 'The Social Contract' you may also like:\n",
      "\n",
      "Title: Allegory of the cave, Author: Plato, Genres: ['Philosophy', 'Political Theory', 'Epistemology']\n",
      "********\n",
      "\n",
      "********\n",
      "If you liked the book 'The Social Contract' you may also like:\n",
      "\n",
      "Title: Meditations, Author: Marcus Aurelius, Genres: ['Philosophy', 'Stoicism']\n",
      "Title: Allegory of the cave, Author: Plato, Genres: ['Philosophy', 'Political Theory', 'Epistemology']\n",
      "Title: Beyond Good and Evil, Author: Friedrich Nietzsche, Genres: ['Philosophy', 'Ethics']\n",
      "Title: Nicomachean Ethics, Author: Aristotle, Genres: ['Philosophy', 'Ethics']\n",
      "Title: Critique of Pure Reason, Author: Immanuel Kant, Genres: ['Philosophy', 'Epistemology', 'Metaphysics']\n",
      "Title: The Myth of Sisyphus, Author: Albert Camus, Genres: ['Philosophy', 'Existentialism']\n",
      "Title: Discourse on Method, Author: René Descartes, Genres: ['Philosophy', 'Epistemology']\n",
      "Title: Thus Spoke Zarathustra, Author: Friedrich Nietzsche, Genres: ['Philosophy', 'Existentialism']\n",
      "Title: The Republic, Author: Plato, Genres: ['Philosophy', 'Political Theory', 'Ethics']\n",
      "Title: The Ethics of Ambiguity, Author: Simone de Beauvoir, Genres: ['Philosophy', 'Existentialism', 'Ethics']\n",
      "Title: Being and Nothingness, Author: Jean-Paul Sartre, Genres: ['Philosophy', 'Existentialism']\n",
      "Title: The Genealogy of Morals, Author: Friedrich Nietzsche, Genres: ['Philosophy', 'Ethics', 'Psychology']\n",
      "Title: On the Genealogy of Morals, Author: Friedrich Nietzsche, Genres: ['Philosophy', 'Ethics', 'Psychology']\n",
      "Title: The World as Will and Representation, Author: Arthur Schopenhauer, Genres: ['Philosophy', 'Metaphysics']\n",
      "Title: The Phenomenology of Spirit, Author: G.W.F. Hegel, Genres: ['Philosophy', 'Metaphysics']\n",
      "Title: The Communist Manifesto, Author: Karl Marx, Genres: ['Political Theory', 'Philosophy']\n",
      "Title: The Second Sex, Author: Simone de Beauvoir, Genres: ['Philosophy', 'Feminism']\n",
      "Title: The Bible, Author: Various, Genres: ['Religion', 'Philosophy']\n",
      "Title: The Bhagavad Gita, Author: Various, Genres: ['Religion', 'Philosophy']\n",
      "Title: The Tao Te Ching, Author: Laozi, Genres: ['Philosophy', 'Spirituality']\n",
      "Title: The Analects, Author: Confucius, Genres: ['Philosophy', 'Ethics']\n",
      "Title: The Art of War, Author: Sun Tzu, Genres: ['Philosophy', 'Strategy']\n",
      "Title: The Divine Comedy, Author: Dante Alighieri, Genres: ['Literature', 'Philosophy']\n",
      "Title: The Critique of Judgment, Author: Immanuel Kant, Genres: ['Philosophy', 'Aesthetics']\n",
      "Title: The Metaphysics, Author: Aristotle, Genres: ['Philosophy', 'Metaphysics']\n",
      "Title: The Structure of Scientific Revolutions, Author: Thomas Kuhn, Genres: ['Philosophy', 'Science']\n",
      "Title: The Logic of Scientific Discovery, Author: Karl Popper, Genres: ['Philosophy', 'Science']\n",
      "Title: The Prince, Author: Niccolò Machiavelli, Genres: ['Political Theory']\n",
      "Title: The Wealth of Nations, Author: Adam Smith, Genres: ['Economics', 'Philosophy']\n",
      "Title: The Origin of Species, Author: Charles Darwin, Genres: ['Science', 'Philosophy']\n",
      "Title: The History of Western Philosophy, Author: Bertrand Russell, Genres: ['Philosophy']\n",
      "Title: The Ethics of Socrates, Author: Xenophon, Genres: ['Philosophy']\n",
      "Title: Critique of Practical Reason, Author: Immanuel Kant, Genres: ['Philosophy', 'Ethics']\n",
      "Title: Philosophical Investigations, Author: Ludwig Wittgenstein, Genres: ['Philosophy', 'Logic']\n",
      "Title: The Logic of Sense, Author: Gilles Deleuze, Genres: ['Philosophy', 'Logic']\n",
      "Title: The Concept of Anxiety, Author: Søren Kierkegaard, Genres: ['Philosophy', 'Existentialism']\n",
      "Title: Existentialism is a Humanism, Author: Jean-Paul Sartre, Genres: ['Philosophy', 'Existentialism']\n",
      "Title: Being and Time, Author: Martin Heidegger, Genres: ['Philosophy', 'Metaphysics']\n",
      "Title: The Phenomenology of Perception, Author: Maurice Merleau-Ponty, Genres: ['Philosophy', 'Phenomenology']\n",
      "Title: Tractatus Logico-Philosophicus, Author: Ludwig Wittgenstein, Genres: ['Philosophy', 'Logic']\n",
      "Title: The Idea of the Good in Platonic Philosophy, Author: Vlastos Gregory, Genres: ['Philosophy', 'Ethics']\n",
      "Title: The Philosophy of History, Author: Georg Wilhelm Friedrich Hegel, Genres: ['Philosophy', 'History']\n",
      "Title: The Human Condition, Author: Hannah Arendt, Genres: ['Philosophy', 'Politics']\n",
      "Title: A History of Western Philosophy, Author: Bertrand Russell, Genres: ['Philosophy']\n",
      "Title: The Ego and the Id, Author: Sigmund Freud, Genres: ['Psychology', 'Philosophy']\n",
      "Title: The Symposium, Author: Plato, Genres: ['Philosophy', 'Ethics']\n",
      "********\n",
      "\n"
     ]
    }
   ],
   "source": [
    "#testing suggest_similar_books\n",
    "#use smaller library here bcz if have 50 similar books (all have philosophy genre, it gives almost all of them)\n",
    "small_library = Library()\n",
    "small_library.load_books_from_file (\"philosophy_books.txt\")\n",
    "small_library.suggest_similar_books(\"The Social Contract\")\n",
    "#for small library gives only 1 book bcz it's the only one with  Political Theory genre\n",
    "\n",
    "\n",
    "\n",
    "new_library = Library ()\n",
    "new_library.load_books_from_file (\"unique_books.txt\")\n",
    "new_library.suggest_similar_books(\"The Social Contract\")\n",
    "#for new library gives a lot of books; there are 5 with Political Theory genre (I checked), except for the searched one; \n",
    "\n",
    "\n",
    "\n",
    "\n",
    "\n",
    "#Yes it worked, the otput was\n",
    "\n",
    "#********\n",
    "#If you liked the book 'The Social Contract' you may also like:\n",
    "#********\n",
    "#Allegory of the cave by Plato (Genres: Philosophy, Political Theory, Epistemology)\n",
    "\n",
    "#I chose this book because all of the books have Philosophy as a genre. Only this one has only \"Political Theory\" as genre, so it would output others with \"Political Theory\"; authors are almost all different;\n",
    "\n",
    "#It worked but bcz I printed directly it also prints address in memory. I needed to use STR method to fix it\n",
    "\n",
    "#The reason was bcz I had STR but no REPR; And lists need REPR; if no REPR, then it uses default (which is to print address). So I had to define REPR\n",
    "\n",
    "#Yes, now no address in memory\n",
    "\n",
    "#But now it also prints [] list (because I return suggested_books_list). I will return it as a string format then and avoid other printing"
   ]
  },
  {
   "cell_type": "code",
   "execution_count": null,
   "metadata": {},
   "outputs": [],
   "source": []
  }
 ],
 "metadata": {
  "kernelspec": {
   "display_name": "python_oop",
   "language": "python",
   "name": "python3"
  },
  "language_info": {
   "codemirror_mode": {
    "name": "ipython",
    "version": 3
   },
   "file_extension": ".py",
   "mimetype": "text/x-python",
   "name": "python",
   "nbconvert_exporter": "python",
   "pygments_lexer": "ipython3",
   "version": "3.9.20"
  }
 },
 "nbformat": 4,
 "nbformat_minor": 2
}
